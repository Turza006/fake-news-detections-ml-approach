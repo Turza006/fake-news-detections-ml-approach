{
  "nbformat": 4,
  "nbformat_minor": 0,
  "metadata": {
    "colab": {
      "provenance": [],
      "authorship_tag": "ABX9TyMZ2DQwoF/jvVO604Z7KK7x",
      "include_colab_link": true
    },
    "kernelspec": {
      "name": "python3",
      "display_name": "Python 3"
    },
    "language_info": {
      "name": "python"
    }
  },
  "cells": [
    {
      "cell_type": "markdown",
      "metadata": {
        "id": "view-in-github",
        "colab_type": "text"
      },
      "source": [
        "<a href=\"https://colab.research.google.com/github/Turza006/fake-news-detections-ml-approach/blob/master/fack_new_0_0_2.ipynb\" target=\"_parent\"><img src=\"https://colab.research.google.com/assets/colab-badge.svg\" alt=\"Open In Colab\"/></a>"
      ]
    },
    {
      "cell_type": "markdown",
      "metadata": {
        "id": "EoRP98MpR-qj"
      },
      "source": [
        "## Importing the libraries"
      ]
    },
    {
      "cell_type": "code",
      "metadata": {
        "id": "N-qiINBQSK2g"
      },
      "source": [
        "import pandas as pd\n",
        "from google.colab import drive\n",
        "\n",
        "import pandas as pd\n",
        "from sklearn.model_selection import train_test_split\n",
        "from sklearn.feature_extraction.text import TfidfVectorizer\n",
        "from sklearn.naive_bayes import MultinomialNB\n",
        "from sklearn.ensemble import RandomForestClassifier\n",
        "from sklearn.metrics import classification_report, accuracy_score\n",
        "from sentence_transformers import SentenceTransformer\n",
        "import numpy as np\n",
        "\n",
        "import re\n"
      ],
      "execution_count": 153,
      "outputs": []
    },
    {
      "cell_type": "markdown",
      "metadata": {
        "id": "RopL7tUZSQkT"
      },
      "source": [
        "## Importing the dataset"
      ]
    },
    {
      "cell_type": "code",
      "metadata": {
        "id": "WwEPNDWySTKm",
        "colab": {
          "base_uri": "https://localhost:8080/"
        },
        "outputId": "6e115c69-9626-482e-de40-46f48eb0e079"
      },
      "source": [
        "drive.mount('/content/drive')\n",
        "real_news = pd.read_csv(\"/content/drive/MyDrive/news_data/LabeledAuthentic-7K.csv\")\n",
        "fake_news = pd.read_csv(\"/content/drive/MyDrive/news_data/LabeledFake-1K.csv\")"
      ],
      "execution_count": 154,
      "outputs": [
        {
          "output_type": "stream",
          "name": "stdout",
          "text": [
            "Drive already mounted at /content/drive; to attempt to forcibly remount, call drive.mount(\"/content/drive\", force_remount=True).\n"
          ]
        }
      ]
    },
    {
      "cell_type": "code",
      "source": [
        "# prompt: print first 5 element from real news\n",
        "\n",
        "print(fake_news.head())\n",
        "print(real_news.head())\n"
      ],
      "metadata": {
        "colab": {
          "base_uri": "https://localhost:8080/"
        },
        "id": "KZPOB37z03BQ",
        "outputId": "da4da3e9-4531-4f66-f7c3-da9ccfdaff4d"
      },
      "execution_count": 155,
      "outputs": [
        {
          "output_type": "stream",
          "name": "stdout",
          "text": [
            "   articleID                    domain                        date  \\\n",
            "0          1         channeldhaka.news   2019-03-14T13:34:14+00:00   \n",
            "1          2                 earki.com            সেম্বর ১৭, ২০১৮    \n",
            "2          3                 earki.com  ২০:৩৯, জানুয়ারি ১৪, ২০১৯    \n",
            "3          4         channeldhaka.news   2018-06-30T15:56:47+00:00   \n",
            "4          5  motikontho.wordpress.com   2013-03-05T21:55:45+00:00   \n",
            "\n",
            "        category    source   relation  \\\n",
            "0  International  Reporter  Unrelated   \n",
            "1  Miscellaneous  Reporter  Unrelated   \n",
            "2  Miscellaneous  Reporter  Unrelated   \n",
            "3         Sports  Reporter  Unrelated   \n",
            "4  Miscellaneous  Reporter  Unrelated   \n",
            "\n",
            "                                            headline  \\\n",
            "0                           মুরগির হামলায় শেয়াল নিহত   \n",
            "1            বিটিভিতে যেবার আমি ইন্টারভিউ দিতে গেলাম   \n",
            "2  বিদেশ থেকে উন্নতমানের বিরোধীদল আমদানি করার পরা...   \n",
            "3                      অবসর নেয়ার ঘোষণা দিলেন মেসি !   \n",
            "4  মাদারফাকার নহে, ব্রাদারফাকার: সাকা | দৈনিক মতি...   \n",
            "\n",
            "                                             content  label  F-type  \n",
            "0  বাংলায় একটা প্রবাদ আছে, শেয়ালের কাছে মুরগী বর্...      0  Satire  \n",
            "1  BTV থেকে লোকজন আসছে, ইন্টারভিউ নিবে।চারজনের টি...      0  Satire  \n",
            "2  অদ্ভুত বিরোধীদলহীনতায় ভুগছে সরকার। এ এক অন্যরক...      0  Satire  \n",
            "3  রাশিয়া বিশ্বকাপ নকআউট পর্বে ফ্রান্সের সাথে ৪-৩...      0  Satire  \n",
            "4  নিজস্ব মতিবেদক‘মাদারফাকার নহে, আমি ব্রাদারফাকা...      0  Satire  \n",
            "   articleID           domain                 date  category  \\\n",
            "0          1  bd-pratidin.com  2018-09-20 08:16:43    Sports   \n",
            "1          2     jugantor.com  2018-09-20 20:20:20    Sports   \n",
            "2          3     bd24live.com  2018-09-20 16:39:40  National   \n",
            "3          4     bd24live.com  2018-09-19 18:27:56  National   \n",
            "4          5     somoynews.tv  2018-09-20 10:15:28   Finance   \n",
            "\n",
            "                               source relation  \\\n",
            "0  আফগান ক্রিকেট বোর্ড (এসিবি) প্রধান  Related   \n",
            "1                            Reporter  Related   \n",
            "2                            Reporter  Related   \n",
            "3            জননিরাপত্তা বিভাগের সচিব  Related   \n",
            "4    পেট্রোল পাম্প মালিক সমিতি সভাপতি  Related   \n",
            "\n",
            "                                            headline  \\\n",
            "0          হঠাৎ আফগান ক্রিকেট বোর্ড প্রধানের পদত্যাগ   \n",
            "1                           টস হেরে বোলিংয়ে বাংলাদেশ   \n",
            "2                     রাজধানীতে বিশেষ অভিযানে আটক ৪৩   \n",
            "3  উস্কানি রোধে নজরদারি থাকবে সামাজিক যোগাযোগ মাধ...   \n",
            "4     'যেখানে তেল আসত ৭ দিনে, এখন তা আসবে অতি দ্রুত'   \n",
            "\n",
            "                                             content  label  \n",
            "0  ক্রিকেট বিশ্বের নতুন চমকের নাম আফগানিস্তান। কয়...    1.0  \n",
            "1  এশিয়া কাপের ষষ্ঠ ম্যাচে বাংলাদেশ দলের বিপক্ষে ...    1.0  \n",
            "2  রাজধানীতে মাদক বিরোধী বিশেষ অভিযান পরিচালনা কর...    1.0  \n",
            "3  সনাতন ধর্মাবলম্বীদের সবচেয়ে বড় ধর্মীয় উৎসব দুর...    1.0  \n",
            "4  ভারত থেকে পাইপ লাইনের মাধ্যমে সরাসরি দেশে জ্বা...    1.0  \n"
          ]
        }
      ]
    },
    {
      "cell_type": "markdown",
      "source": [
        "Data Preprocessing (crucial for Bangla text)"
      ],
      "metadata": {
        "id": "GJvR1Rsny9WD"
      }
    },
    {
      "cell_type": "code",
      "source": [
        "def clean_text(text):\n",
        "    \"\"\"Basic text cleaning (customize as needed for Bangla).\"\"\"\n",
        "    text = re.sub(r'\\s+', ' ', text).strip()\n",
        "\n",
        "    return text"
      ],
      "metadata": {
        "id": "bN2z8sNcy-Ei"
      },
      "execution_count": 156,
      "outputs": []
    },
    {
      "cell_type": "markdown",
      "source": [
        "# Clean and label the data"
      ],
      "metadata": {
        "id": "3VyU6I3w2zM3"
      }
    },
    {
      "cell_type": "code",
      "source": [
        "fake_news['label'] = 1\n",
        "fake_news['headline'] = fake_news['headline'].apply(clean_text)\n",
        "fake_news['content'] = fake_news['content'].apply(clean_text)\n",
        "fake_news['source'] = fake_news['source'].apply(clean_text)\n",
        "fake_news['domain'] = fake_news['domain'].apply(clean_text)\n",
        "\n",
        "real_news['label'] = 0\n",
        "real_news['headline'] = real_news['headline'].apply(clean_text)\n",
        "real_news['content'] = real_news['content'].apply(clean_text)\n",
        "real_news['source'] = real_news['source'].apply(clean_text)\n",
        "real_news['domain'] = real_news['domain'].apply(clean_text)"
      ],
      "metadata": {
        "id": "OsART1y2zh_k"
      },
      "execution_count": 157,
      "outputs": []
    },
    {
      "cell_type": "code",
      "source": [
        "print('process fake-----',fake_news.head())\n",
        "print('process real-------',real_news.head())"
      ],
      "metadata": {
        "colab": {
          "base_uri": "https://localhost:8080/"
        },
        "id": "kBQBKI5cy-Kg",
        "outputId": "fdd56bc0-f5b3-4889-b8fd-fed5185a849e"
      },
      "execution_count": 158,
      "outputs": [
        {
          "output_type": "stream",
          "name": "stdout",
          "text": [
            "process fake-----    articleID                    domain                        date  \\\n",
            "0          1         channeldhaka.news   2019-03-14T13:34:14+00:00   \n",
            "1          2                 earki.com            সেম্বর ১৭, ২০১৮    \n",
            "2          3                 earki.com  ২০:৩৯, জানুয়ারি ১৪, ২০১৯    \n",
            "3          4         channeldhaka.news   2018-06-30T15:56:47+00:00   \n",
            "4          5  motikontho.wordpress.com   2013-03-05T21:55:45+00:00   \n",
            "\n",
            "        category    source   relation  \\\n",
            "0  International  Reporter  Unrelated   \n",
            "1  Miscellaneous  Reporter  Unrelated   \n",
            "2  Miscellaneous  Reporter  Unrelated   \n",
            "3         Sports  Reporter  Unrelated   \n",
            "4  Miscellaneous  Reporter  Unrelated   \n",
            "\n",
            "                                            headline  \\\n",
            "0                           মুরগির হামলায় শেয়াল নিহত   \n",
            "1            বিটিভিতে যেবার আমি ইন্টারভিউ দিতে গেলাম   \n",
            "2  বিদেশ থেকে উন্নতমানের বিরোধীদল আমদানি করার পরা...   \n",
            "3                      অবসর নেয়ার ঘোষণা দিলেন মেসি !   \n",
            "4  মাদারফাকার নহে, ব্রাদারফাকার: সাকা | দৈনিক মতি...   \n",
            "\n",
            "                                             content  label  F-type  \n",
            "0  বাংলায় একটা প্রবাদ আছে, শেয়ালের কাছে মুরগী বর্...      1  Satire  \n",
            "1  BTV থেকে লোকজন আসছে, ইন্টারভিউ নিবে।চারজনের টি...      1  Satire  \n",
            "2  অদ্ভুত বিরোধীদলহীনতায় ভুগছে সরকার। এ এক অন্যরক...      1  Satire  \n",
            "3  রাশিয়া বিশ্বকাপ নকআউট পর্বে ফ্রান্সের সাথে ৪-৩...      1  Satire  \n",
            "4  নিজস্ব মতিবেদক‘মাদারফাকার নহে, আমি ব্রাদারফাকা...      1  Satire  \n",
            "process real-------    articleID           domain                 date  category  \\\n",
            "0          1  bd-pratidin.com  2018-09-20 08:16:43    Sports   \n",
            "1          2     jugantor.com  2018-09-20 20:20:20    Sports   \n",
            "2          3     bd24live.com  2018-09-20 16:39:40  National   \n",
            "3          4     bd24live.com  2018-09-19 18:27:56  National   \n",
            "4          5     somoynews.tv  2018-09-20 10:15:28   Finance   \n",
            "\n",
            "                               source relation  \\\n",
            "0  আফগান ক্রিকেট বোর্ড (এসিবি) প্রধান  Related   \n",
            "1                            Reporter  Related   \n",
            "2                            Reporter  Related   \n",
            "3            জননিরাপত্তা বিভাগের সচিব  Related   \n",
            "4    পেট্রোল পাম্প মালিক সমিতি সভাপতি  Related   \n",
            "\n",
            "                                            headline  \\\n",
            "0          হঠাৎ আফগান ক্রিকেট বোর্ড প্রধানের পদত্যাগ   \n",
            "1                           টস হেরে বোলিংয়ে বাংলাদেশ   \n",
            "2                     রাজধানীতে বিশেষ অভিযানে আটক ৪৩   \n",
            "3  উস্কানি রোধে নজরদারি থাকবে সামাজিক যোগাযোগ মাধ...   \n",
            "4     'যেখানে তেল আসত ৭ দিনে, এখন তা আসবে অতি দ্রুত'   \n",
            "\n",
            "                                             content  label  \n",
            "0  ক্রিকেট বিশ্বের নতুন চমকের নাম আফগানিস্তান। কয়...      0  \n",
            "1  এশিয়া কাপের ষষ্ঠ ম্যাচে বাংলাদেশ দলের বিপক্ষে ...      0  \n",
            "2  রাজধানীতে মাদক বিরোধী বিশেষ অভিযান পরিচালনা কর...      0  \n",
            "3  সনাতন ধর্মাবলম্বীদের সবচেয়ে বড় ধর্মীয় উৎসব দুর...      0  \n",
            "4  ভারত থেকে পাইপ লাইনের মাধ্যমে সরাসরি দেশে জ্বা...      0  \n"
          ]
        }
      ]
    },
    {
      "cell_type": "markdown",
      "source": [
        "# Combine datasets"
      ],
      "metadata": {
        "id": "-8k_77YODfwL"
      }
    },
    {
      "cell_type": "code",
      "source": [
        "combined_data = pd.concat([fake_news, real_news], ignore_index=True)"
      ],
      "metadata": {
        "id": "YMTXgChhDl0b"
      },
      "execution_count": 159,
      "outputs": []
    },
    {
      "cell_type": "markdown",
      "source": [
        "# Feature Engineering: Combine headline and article, then vectorize."
      ],
      "metadata": {
        "id": "N5ux4nVJ1zpm"
      }
    },
    {
      "cell_type": "code",
      "source": [
        "combined_data['combined_text'] = combined_data['headline'] + ' ' + combined_data['content'] +  ' ' + combined_data['domain']"
      ],
      "metadata": {
        "id": "J5rtAtQq2Rjk"
      },
      "execution_count": 160,
      "outputs": []
    },
    {
      "cell_type": "markdown",
      "source": [
        "# TF-IDF Vectorization\n"
      ],
      "metadata": {
        "id": "FJSMjyPA2do7"
      }
    },
    {
      "cell_type": "code",
      "source": [
        "vectorizer = TfidfVectorizer(max_features=8000)\n",
        "X = vectorizer.fit_transform(combined_data['combined_text'])\n",
        "y = combined_data['label']\n",
        "\n",
        "feature_names = vectorizer.get_feature_names_out()"
      ],
      "metadata": {
        "id": "QM1yJVFR2iLT"
      },
      "execution_count": 161,
      "outputs": []
    },
    {
      "cell_type": "markdown",
      "source": [
        "# Split data into training and testing sets"
      ],
      "metadata": {
        "id": "18dwQtHP2nT6"
      }
    },
    {
      "cell_type": "code",
      "source": [
        "X_train, X_test, y_train, y_test = train_test_split(X, y, test_size=0.2, random_state=42)\n"
      ],
      "metadata": {
        "id": "yA5iLEh92oZZ"
      },
      "execution_count": 162,
      "outputs": []
    },
    {
      "cell_type": "markdown",
      "source": [
        "# Train and Evaluate Naive Bayes"
      ],
      "metadata": {
        "id": "rV_cLa8e2uJb"
      }
    },
    {
      "cell_type": "code",
      "source": [
        "nb_classifier = MultinomialNB()\n",
        "nb_classifier.fit(X_train, y_train)\n",
        "nb_predictions = nb_classifier.predict(X_test)\n",
        "print(\"Naive Bayes:\")\n",
        "print(classification_report(y_test, nb_predictions))\n",
        "print(\"Accuracy:\", accuracy_score(y_test, nb_predictions))"
      ],
      "metadata": {
        "colab": {
          "base_uri": "https://localhost:8080/"
        },
        "id": "09DxBg4d2xCB",
        "outputId": "96d008f5-56cd-4d44-84e4-c6f85bf5126a"
      },
      "execution_count": 163,
      "outputs": [
        {
          "output_type": "stream",
          "name": "stdout",
          "text": [
            "Naive Bayes:\n",
            "              precision    recall  f1-score   support\n",
            "\n",
            "           0       0.87      1.00      0.93      1427\n",
            "           1       0.97      0.23      0.37       274\n",
            "\n",
            "    accuracy                           0.87      1701\n",
            "   macro avg       0.92      0.61      0.65      1701\n",
            "weighted avg       0.89      0.87      0.84      1701\n",
            "\n",
            "Accuracy: 0.8741916519694297\n"
          ]
        }
      ]
    },
    {
      "cell_type": "markdown",
      "source": [
        "#Naive Bayes feature importance"
      ],
      "metadata": {
        "id": "Y4YwyeZJCArx"
      }
    },
    {
      "cell_type": "code",
      "source": [
        "nb_feature_log_prob = nb_classifier.feature_log_prob_[1] - nb_classifier.feature_log_prob_[0]\n",
        "nb_feature_importance = pd.DataFrame({\n",
        "    'Feature': feature_names,\n",
        "    'Importance': nb_feature_log_prob\n",
        "}).sort_values(by='Importance', ascending=False)\n",
        "\n",
        "print(\"Top 20 features indicating fake news (Naive Bayes):\")\n",
        "print(nb_feature_importance.head(20))\n",
        "\n",
        "print(\"\\nTop 20 features indicating real news (Naive Bayes):\")\n",
        "print(nb_feature_importance.tail(20))"
      ],
      "metadata": {
        "colab": {
          "base_uri": "https://localhost:8080/"
        },
        "id": "nHqJBv7h7DAJ",
        "outputId": "7592de90-7185-47c1-8bae-fdb9a07667dd"
      },
      "execution_count": 164,
      "outputs": [
        {
          "output_type": "stream",
          "name": "stdout",
          "text": [
            "Top 20 features indicating fake news (Naive Bayes):\n",
            "               Feature  Importance\n",
            "374               news    4.467309\n",
            "134       channeldhaka    4.431240\n",
            "193              earki    3.887030\n",
            "98         bengalbeats    3.695196\n",
            "97              bengal    3.671213\n",
            "92               beats    3.671213\n",
            "580          wordpress    3.588236\n",
            "358         motikontho    3.588236\n",
            "209               eআরক    3.446745\n",
            "30         adsbygoogle    3.253868\n",
            "2739              গনতন    3.158499\n",
            "470         sharetweet    2.928387\n",
            "100   bengaliviralnews    2.858730\n",
            "498             source    2.838910\n",
            "6471               হইছ    2.734768\n",
            "2658               গঘন    2.723459\n",
            "4545                ফখ    2.717608\n",
            "574             window    2.678886\n",
            "432               push    2.678886\n",
            "2334               কইর    2.667404\n",
            "\n",
            "Top 20 features indicating real news (Naive Bayes):\n",
            "            Feature  Importance\n",
            "2137             এশ   -1.928869\n",
            "3423            টরস   -1.934574\n",
            "544              tv   -1.937980\n",
            "7080             ১৯   -1.950442\n",
            "2887             ঙন   -1.951303\n",
            "2309             ওস   -1.980624\n",
            "495       somoynews   -2.004604\n",
            "3236             জশ   -2.020467\n",
            "76     banglanews24   -2.115558\n",
            "311     kalerkantho   -2.122942\n",
            "1534            উইক   -2.194095\n",
            "6263            সদর   -2.211436\n",
            "70           bangla   -2.211840\n",
            "77    banglatribune   -2.342766\n",
            "6454            সড়ক   -2.375286\n",
            "301      jagonews24   -2.401797\n",
            "5168            মরদ   -2.409307\n",
            "1636            উপজ   -2.444505\n",
            "280   independent24   -2.603785\n",
            "1042            আফগ   -2.682156\n"
          ]
        }
      ]
    },
    {
      "cell_type": "markdown",
      "source": [
        "# Train and Evaluate Random Forest"
      ],
      "metadata": {
        "id": "A17nThCJ23wJ"
      }
    },
    {
      "cell_type": "code",
      "source": [
        "rf_classifier = RandomForestClassifier(n_estimators=100, random_state=42) # Adjust n_estimators as needed\n",
        "rf_classifier.fit(X_train, y_train)\n",
        "rf_predictions = rf_classifier.predict(X_test)\n",
        "print(\"\\nRandom Forest:\")\n",
        "print(classification_report(y_test, rf_predictions))\n",
        "print(\"Accuracy:\", accuracy_score(y_test, rf_predictions))"
      ],
      "metadata": {
        "colab": {
          "base_uri": "https://localhost:8080/"
        },
        "id": "_Wwq-Nft24bS",
        "outputId": "336eff09-c446-4405-fada-4ae17a7508c2"
      },
      "execution_count": 165,
      "outputs": [
        {
          "output_type": "stream",
          "name": "stdout",
          "text": [
            "\n",
            "Random Forest:\n",
            "              precision    recall  f1-score   support\n",
            "\n",
            "           0       0.97      1.00      0.98      1427\n",
            "           1       1.00      0.82      0.90       274\n",
            "\n",
            "    accuracy                           0.97      1701\n",
            "   macro avg       0.98      0.91      0.94      1701\n",
            "weighted avg       0.97      0.97      0.97      1701\n",
            "\n",
            "Accuracy: 0.9711934156378601\n"
          ]
        }
      ]
    },
    {
      "cell_type": "markdown",
      "source": [
        "# Random Forest feature importance\n"
      ],
      "metadata": {
        "id": "a2-TTrI9CvCy"
      }
    },
    {
      "cell_type": "code",
      "source": [
        "rf_feature_importance = pd.DataFrame({\n",
        "    'Feature': feature_names,\n",
        "    'Importance': rf_classifier.feature_importances_\n",
        "}).sort_values(by='Importance', ascending=False)\n",
        "\n",
        "print(\"\\nTop 20 important features indicating fake news (Random Forest):\")\n",
        "print(rf_feature_importance.head(20))\n",
        "\n",
        "print(\"\\nTop 20 important features indicating real news (Random Forest):\")\n",
        "print(rf_feature_importance.tail(20))"
      ],
      "metadata": {
        "colab": {
          "base_uri": "https://localhost:8080/"
        },
        "id": "f8TfaaLV7awx",
        "outputId": "9bd13b9a-710a-43af-c7d1-4ac7b8b2f03a"
      },
      "execution_count": 166,
      "outputs": [
        {
          "output_type": "stream",
          "name": "stdout",
          "text": [
            "\n",
            "Top 20 important features indicating fake news (Random Forest):\n",
            "               Feature  Importance\n",
            "134       channeldhaka    0.046843\n",
            "374               news    0.044892\n",
            "193              earki    0.033801\n",
            "97              bengal    0.020870\n",
            "143                com    0.020830\n",
            "358         motikontho    0.018642\n",
            "92               beats    0.016160\n",
            "98         bengalbeats    0.015190\n",
            "6545                হয    0.012395\n",
            "580          wordpress    0.012330\n",
            "1069                আম    0.010162\n",
            "209               eআরক    0.009237\n",
            "1033               আপন    0.008703\n",
            "4797                বর    0.008239\n",
            "2293                ওয    0.008022\n",
            "100   bengaliviralnews    0.007258\n",
            "2405                কণ    0.006457\n",
            "2658               গঘন    0.006199\n",
            "1093                আর    0.004921\n",
            "6593                হয়    0.004907\n",
            "\n",
            "Top 20 important features indicating real news (Random Forest):\n",
            "               Feature  Importance\n",
            "3918                দঙ         0.0\n",
            "3943               দনশ         0.0\n",
            "3934               দনগ         0.0\n",
            "3942              দনরত         0.0\n",
            "3941              দনময়         0.0\n",
            "3940               দনম         0.0\n",
            "3938               দনপ         0.0\n",
            "3937               দনদ         0.0\n",
            "496                son         0.0\n",
            "3935              দনগর         0.0\n",
            "3931               দনই         0.0\n",
            "3919              দচশম         0.0\n",
            "3929                দধ         0.0\n",
            "3927             দতবরণ         0.0\n",
            "499              space         0.0\n",
            "500             spacex         0.0\n",
            "3924                দড         0.0\n",
            "501   spatourderainbow         0.0\n",
            "3922                দজ         0.0\n",
            "4480              পরতন         0.0\n"
          ]
        }
      ]
    },
    {
      "cell_type": "markdown",
      "source": [
        "# Example Prediction (Remember to preprocess the input text)\n"
      ],
      "metadata": {
        "id": "8OxbG7gg2-8S"
      }
    },
    {
      "cell_type": "markdown",
      "source": [
        "#fake news"
      ],
      "metadata": {
        "id": "tT_82nbcJ7_d"
      }
    },
    {
      "cell_type": "code",
      "source": [
        "new_headline = \"ড. ইউনূসের এডিটেড ভিডিও দিয়ে জুয়ার অ্যাপের প্রচারণা\"\n",
        "new_article = \"সামাজিক যোগাযোগ মাধ্যম ফেসবুকে একটি ভিডিও পোস্ট করা হয়েছে। ভিডিওতে দেখা যাচ্ছে অন্তর্বর্তীকালীন সরকারের প্রধান উপদেষ্টা ও নোবেল বিজয়ী ড. মুহাম্মদ ইউনূস বলেছেন, একটি অ্যাপ তৈরি করা হয়েছে যা বেকারত্ব দূর করতে সাহায্য করবে। একই ভিডিওতে ডাক, টেলিযোগাযোগ ও তথ্যপ্রযুক্তি উপদেষ্টা মো. নাহিদ ইসলামকে বলতে দেখা যায়, সব শিক্ষার্থীরা মুহাম্মদ ইউনূসের অ্যাপটিতে খেলে আয় করছে। ভিডিওটিতে সময় টেলিভিশনের লোগোযুক্ত একজন সংবাদ পাঠিকার এ সংক্রান্ত সংবাদ পাঠের দৃশ্যও যুক্ত করা হয়েছে। ভিডিও সহ এরকম একটি পোস্ট দেখুন এখানে। এছাড়াও আরো একটি ভিডিওতে ড. মুহাম্মদ ইউনূসকে বলতে দেখা যায়, দেশের বর্তমান বিপর্যয়ের কারণে আমি একটি নতুন এপ্লিকেশন তৈরি করার সিদ্ধান্ত নিয়েছি। Crazy Time নামক এই অ্যাপে মাত্র ৫ টাকা বিনিয়োগ করে অনেক ভালো আয় করা যাবে। এমনকি প্রথম দিনেই ৫০ হাজার বা এক লক্ষ টাকা জিততে (আয় করতে) পারেন। ভিডিও সহ এরকম একটি পোস্ট দেখুন এখানে। গত ২০ অক্টোবর 'Yudi liceth Arboleda' নামের পেজ থেকে ভিডিওটি (প্রথমে উল্লিখিত) পোস্ট করা হয়। ভিডিওটি দিয়ে একটি অ্যাপের প্রচারণা চালানো হচ্ছে। পোস্টটির স্ক্রিনশটের (কোলাজ) দেখুন--\"\n",
        "new_domain = \"earki.co\"\n",
        "\n",
        "new_text = clean_text(new_headline + ' ' + new_article+ ' '+ new_domain)\n",
        "new_text_vec = vectorizer.transform([new_text])"
      ],
      "metadata": {
        "id": "FK_xl8RcJ649"
      },
      "execution_count": 167,
      "outputs": []
    },
    {
      "cell_type": "code",
      "source": [
        "nb_prob = nb_classifier.predict_proba(new_text_vec)[0][1]\n",
        "rf_prob = rf_classifier.predict_proba(new_text_vec)[0][1]\n",
        "\n",
        "print(f\"\\nNaive Bayes probability of being fake: {nb_prob:.2f}\")\n",
        "print(f\"Random Forest probability of being fake: {rf_prob:.2f}\")"
      ],
      "metadata": {
        "colab": {
          "base_uri": "https://localhost:8080/"
        },
        "id": "9-TJT6Vu3nz5",
        "outputId": "52882c18-b3e1-4a25-8799-e19e329d6d7e"
      },
      "execution_count": 168,
      "outputs": [
        {
          "output_type": "stream",
          "name": "stdout",
          "text": [
            "\n",
            "Naive Bayes probability of being fake: 0.09\n",
            "Random Forest probability of being fake: 0.49\n"
          ]
        }
      ]
    },
    {
      "cell_type": "code",
      "source": [
        "# Extract features from the new text\n",
        "new_text_feature_indices = new_text_vec.nonzero()[1]\n",
        "new_text_feature_names = [feature_names[i] for i in new_text_feature_indices]\n",
        "\n",
        "# Print important features for Naive Bayes\n",
        "print(\"\\nImportant features in the news (Naive Bayes):\")\n",
        "nb_important_features = nb_feature_importance[nb_feature_importance['Feature'].isin(new_text_feature_names)].sort_values(by='Importance', ascending=False)\n",
        "print(nb_important_features.head(10))\n",
        "\n",
        "# Print important features for Random Forest\n",
        "print(\"\\nImportant features in the news (Random Forest):\")\n",
        "rf_important_features = rf_feature_importance[rf_feature_importance['Feature'].isin(new_text_feature_names)].sort_values(by='Importance', ascending=False)\n",
        "print(rf_important_features.head(10))"
      ],
      "metadata": {
        "colab": {
          "base_uri": "https://localhost:8080/"
        },
        "id": "2v7TqNJaHAZt",
        "outputId": "8e168b14-8215-49f8-8b76-ceb49db9b0b9"
      },
      "execution_count": 169,
      "outputs": [
        {
          "output_type": "stream",
          "name": "stdout",
          "text": [
            "\n",
            "Important features in the news (Naive Bayes):\n",
            "     Feature  Importance\n",
            "193    earki    3.887030\n",
            "2098    এরকম    1.615479\n",
            "4299     নশট    1.466162\n",
            "139       co    1.264778\n",
            "534     time    1.233823\n",
            "2264      ওট    1.074268\n",
            "2270      ওত    0.705949\n",
            "4836     বলত    0.666348\n",
            "1069      আম    0.598613\n",
            "2082    এমনক    0.569125\n",
            "\n",
            "Important features in the news (Random Forest):\n",
            "     Feature  Importance\n",
            "193    earki    0.033801\n",
            "1069      আম    0.010162\n",
            "4797      বর    0.008239\n",
            "1093      আর    0.004921\n",
            "6593      হয়    0.004907\n",
            "6314      সব    0.004425\n",
            "1769      এই    0.003863\n",
            "2098    এরকম    0.002733\n",
            "1840      এক    0.002720\n",
            "1865     একট    0.002701\n"
          ]
        }
      ]
    }
  ]
}