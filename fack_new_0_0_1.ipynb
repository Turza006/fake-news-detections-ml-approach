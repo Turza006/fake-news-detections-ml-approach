{
  "nbformat": 4,
  "nbformat_minor": 0,
  "metadata": {
    "colab": {
      "provenance": [],
      "authorship_tag": "ABX9TyPuoWOZ+xt/8uolutSerDvc",
      "include_colab_link": true
    },
    "kernelspec": {
      "name": "python3",
      "display_name": "Python 3"
    },
    "language_info": {
      "name": "python"
    }
  },
  "cells": [
    {
      "cell_type": "markdown",
      "metadata": {
        "id": "view-in-github",
        "colab_type": "text"
      },
      "source": [
        "<a href=\"https://colab.research.google.com/github/Turza006/fake-news-detections-ml-approach/blob/master/fack_new_0_0_1.ipynb\" target=\"_parent\"><img src=\"https://colab.research.google.com/assets/colab-badge.svg\" alt=\"Open In Colab\"/></a>"
      ]
    },
    {
      "cell_type": "markdown",
      "metadata": {
        "id": "EoRP98MpR-qj"
      },
      "source": [
        "## Importing the libraries"
      ]
    },
    {
      "cell_type": "code",
      "metadata": {
        "id": "N-qiINBQSK2g"
      },
      "source": [
        "import pandas as pd\n",
        "from google.colab import drive\n",
        "\n",
        "import pandas as pd\n",
        "from sklearn.model_selection import train_test_split\n",
        "from sklearn.feature_extraction.text import TfidfVectorizer\n",
        "from sklearn.naive_bayes import MultinomialNB\n",
        "from sklearn.ensemble import RandomForestClassifier\n",
        "from sklearn.metrics import classification_report, accuracy_score\n",
        "from sentence_transformers import SentenceTransformer\n",
        "import numpy as np\n",
        "\n",
        "\n"
      ],
      "execution_count": null,
      "outputs": []
    },
    {
      "cell_type": "markdown",
      "metadata": {
        "id": "RopL7tUZSQkT"
      },
      "source": [
        "## Importing the dataset"
      ]
    },
    {
      "cell_type": "code",
      "metadata": {
        "id": "WwEPNDWySTKm",
        "colab": {
          "base_uri": "https://localhost:8080/"
        },
        "outputId": "ef11d0f0-e23f-4a19-d319-52b783c2bf3d"
      },
      "source": [
        "drive.mount('/content/drive')\n",
        "real_news = pd.read_csv(\"/content/drive/MyDrive/news_data/LabeledAuthentic-7K.csv\")\n",
        "fake_news = pd.read_csv(\"/content/drive/MyDrive/news_data/LabeledFake-1K.csv\")"
      ],
      "execution_count": null,
      "outputs": [
        {
          "output_type": "stream",
          "name": "stdout",
          "text": [
            "Drive already mounted at /content/drive; to attempt to forcibly remount, call drive.mount(\"/content/drive\", force_remount=True).\n"
          ]
        }
      ]
    },
    {
      "cell_type": "code",
      "source": [
        "# prompt: print first 5 element from real news\n",
        "\n",
        "print(fake_news.head())\n",
        "print(real_news.head())\n"
      ],
      "metadata": {
        "colab": {
          "base_uri": "https://localhost:8080/"
        },
        "id": "KZPOB37z03BQ",
        "outputId": "2154917d-fe02-466e-8fa6-27e585d0c972"
      },
      "execution_count": null,
      "outputs": [
        {
          "output_type": "stream",
          "name": "stdout",
          "text": [
            "   articleID                    domain                        date  \\\n",
            "0          1         channeldhaka.news   2019-03-14T13:34:14+00:00   \n",
            "1          2                 earki.com            সেম্বর ১৭, ২০১৮    \n",
            "2          3                 earki.com  ২০:৩৯, জানুয়ারি ১৪, ২০১৯    \n",
            "3          4         channeldhaka.news   2018-06-30T15:56:47+00:00   \n",
            "4          5  motikontho.wordpress.com   2013-03-05T21:55:45+00:00   \n",
            "\n",
            "        category    source   relation  \\\n",
            "0  International  Reporter  Unrelated   \n",
            "1  Miscellaneous  Reporter  Unrelated   \n",
            "2  Miscellaneous  Reporter  Unrelated   \n",
            "3         Sports  Reporter  Unrelated   \n",
            "4  Miscellaneous  Reporter  Unrelated   \n",
            "\n",
            "                                            headline  \\\n",
            "0                           মুরগির হামলায় শেয়াল নিহত   \n",
            "1            বিটিভিতে যেবার আমি ইন্টারভিউ দিতে গেলাম   \n",
            "2  বিদেশ থেকে উন্নতমানের বিরোধীদল আমদানি করার পরা...   \n",
            "3                      অবসর নেয়ার ঘোষণা দিলেন মেসি !   \n",
            "4  মাদারফাকার নহে, ব্রাদারফাকার: সাকা | দৈনিক মতি...   \n",
            "\n",
            "                                             content  label  F-type  \n",
            "0  বাংলায় একটা প্রবাদ আছে, শেয়ালের কাছে মুরগী বর্...      0  Satire  \n",
            "1  BTV থেকে লোকজন আসছে, ইন্টারভিউ নিবে।চারজনের টি...      0  Satire  \n",
            "2  অদ্ভুত বিরোধীদলহীনতায় ভুগছে সরকার। এ এক অন্যরক...      0  Satire  \n",
            "3  রাশিয়া বিশ্বকাপ নকআউট পর্বে ফ্রান্সের সাথে ৪-৩...      0  Satire  \n",
            "4  নিজস্ব মতিবেদক‘মাদারফাকার নহে, আমি ব্রাদারফাকা...      0  Satire  \n",
            "   articleID           domain                 date  category  \\\n",
            "0          1  bd-pratidin.com  2018-09-20 08:16:43    Sports   \n",
            "1          2     jugantor.com  2018-09-20 20:20:20    Sports   \n",
            "2          3     bd24live.com  2018-09-20 16:39:40  National   \n",
            "3          4     bd24live.com  2018-09-19 18:27:56  National   \n",
            "4          5     somoynews.tv  2018-09-20 10:15:28   Finance   \n",
            "\n",
            "                               source relation  \\\n",
            "0  আফগান ক্রিকেট বোর্ড (এসিবি) প্রধান  Related   \n",
            "1                            Reporter  Related   \n",
            "2                            Reporter  Related   \n",
            "3            জননিরাপত্তা বিভাগের সচিব  Related   \n",
            "4    পেট্রোল পাম্প মালিক সমিতি সভাপতি  Related   \n",
            "\n",
            "                                            headline  \\\n",
            "0          হঠাৎ আফগান ক্রিকেট বোর্ড প্রধানের পদত্যাগ   \n",
            "1                           টস হেরে বোলিংয়ে বাংলাদেশ   \n",
            "2                     রাজধানীতে বিশেষ অভিযানে আটক ৪৩   \n",
            "3  উস্কানি রোধে নজরদারি থাকবে সামাজিক যোগাযোগ মাধ...   \n",
            "4     'যেখানে তেল আসত ৭ দিনে, এখন তা আসবে অতি দ্রুত'   \n",
            "\n",
            "                                             content  label  \n",
            "0  ক্রিকেট বিশ্বের নতুন চমকের নাম আফগানিস্তান। কয়...    1.0  \n",
            "1  এশিয়া কাপের ষষ্ঠ ম্যাচে বাংলাদেশ দলের বিপক্ষে ...    1.0  \n",
            "2  রাজধানীতে মাদক বিরোধী বিশেষ অভিযান পরিচালনা কর...    1.0  \n",
            "3  সনাতন ধর্মাবলম্বীদের সবচেয়ে বড় ধর্মীয় উৎসব দুর...    1.0  \n",
            "4  ভারত থেকে পাইপ লাইনের মাধ্যমে সরাসরি দেশে জ্বা...    1.0  \n"
          ]
        }
      ]
    },
    {
      "cell_type": "markdown",
      "source": [
        "Data Preprocessing (crucial for Bangla text)"
      ],
      "metadata": {
        "id": "GJvR1Rsny9WD"
      }
    },
    {
      "cell_type": "code",
      "source": [
        "def clean_text(text):\n",
        "    \"\"\"Basic text cleaning (customize as needed for Bangla).\"\"\"\n",
        "    # text = re.sub(r'\\s+', ' ', text).strip()\n",
        "\n",
        "    # # Remove punctuation (you can customize this to keep specific characters)\n",
        "    # text = re.sub(r'[^\\u0980-\\u09FF\\s]', '', text)\n",
        "\n",
        "    return text"
      ],
      "metadata": {
        "id": "bN2z8sNcy-Ei"
      },
      "execution_count": null,
      "outputs": []
    },
    {
      "cell_type": "markdown",
      "source": [
        "# Clean and label the data"
      ],
      "metadata": {
        "id": "3VyU6I3w2zM3"
      }
    },
    {
      "cell_type": "code",
      "source": [
        "fake_news['label'] = 1\n",
        "fake_news['headline'] = fake_news['headline'].apply(clean_text)\n",
        "fake_news['content'] = fake_news['content'].apply(clean_text)\n",
        "\n",
        "real_news['label'] = 0\n",
        "real_news['headline'] = real_news['headline'].apply(clean_text)\n",
        "real_news['content'] = real_news['content'].apply(clean_text)"
      ],
      "metadata": {
        "id": "OsART1y2zh_k"
      },
      "execution_count": null,
      "outputs": []
    },
    {
      "cell_type": "markdown",
      "source": [
        "# Combine datasets"
      ],
      "metadata": {
        "id": "-8k_77YODfwL"
      }
    },
    {
      "cell_type": "code",
      "source": [
        "combined_data = pd.concat([fake_news, real_news], ignore_index=True)"
      ],
      "metadata": {
        "id": "YMTXgChhDl0b"
      },
      "execution_count": null,
      "outputs": []
    },
    {
      "cell_type": "markdown",
      "source": [
        "# Feature Engineering: Combine headline and article, then vectorize."
      ],
      "metadata": {
        "id": "N5ux4nVJ1zpm"
      }
    },
    {
      "cell_type": "code",
      "source": [
        "combined_data['combined_text'] = combined_data['headline'] + ' ' + combined_data['content']"
      ],
      "metadata": {
        "id": "J5rtAtQq2Rjk"
      },
      "execution_count": null,
      "outputs": []
    },
    {
      "cell_type": "markdown",
      "source": [
        "# TF-IDF Vectorization\n"
      ],
      "metadata": {
        "id": "FJSMjyPA2do7"
      }
    },
    {
      "cell_type": "code",
      "source": [
        "vectorizer = TfidfVectorizer(max_features=5000)\n",
        "X = vectorizer.fit_transform(combined_data['combined_text'])\n",
        "y = combined_data['label']"
      ],
      "metadata": {
        "id": "QM1yJVFR2iLT"
      },
      "execution_count": null,
      "outputs": []
    },
    {
      "cell_type": "markdown",
      "source": [
        "# Split data into training and testing sets"
      ],
      "metadata": {
        "id": "18dwQtHP2nT6"
      }
    },
    {
      "cell_type": "code",
      "source": [
        "X_train, X_test, y_train, y_test = train_test_split(X, y, test_size=0.2, random_state=42)\n"
      ],
      "metadata": {
        "id": "yA5iLEh92oZZ"
      },
      "execution_count": null,
      "outputs": []
    },
    {
      "cell_type": "markdown",
      "source": [
        "# Train and Evaluate Naive Bayes"
      ],
      "metadata": {
        "id": "rV_cLa8e2uJb"
      }
    },
    {
      "cell_type": "code",
      "source": [
        "nb_classifier = MultinomialNB()\n",
        "nb_classifier.fit(X_train, y_train)\n",
        "nb_predictions = nb_classifier.predict(X_test)\n",
        "print(\"Naive Bayes:\")\n",
        "print(classification_report(y_test, nb_predictions))\n",
        "print(\"Accuracy:\", accuracy_score(y_test, nb_predictions))"
      ],
      "metadata": {
        "colab": {
          "base_uri": "https://localhost:8080/"
        },
        "id": "09DxBg4d2xCB",
        "outputId": "44804772-7000-49ae-e846-810cec5ddb50"
      },
      "execution_count": null,
      "outputs": [
        {
          "output_type": "stream",
          "name": "stdout",
          "text": [
            "Naive Bayes:\n",
            "              precision    recall  f1-score   support\n",
            "\n",
            "           0       0.88      1.00      0.94      1427\n",
            "           1       0.92      0.31      0.46       274\n",
            "\n",
            "    accuracy                           0.88      1701\n",
            "   macro avg       0.90      0.65      0.70      1701\n",
            "weighted avg       0.89      0.88      0.86      1701\n",
            "\n",
            "Accuracy: 0.8847736625514403\n"
          ]
        }
      ]
    },
    {
      "cell_type": "markdown",
      "source": [
        "# Train and Evaluate Random Forest"
      ],
      "metadata": {
        "id": "A17nThCJ23wJ"
      }
    },
    {
      "cell_type": "code",
      "source": [
        "rf_classifier = RandomForestClassifier(n_estimators=100, random_state=42) # Adjust n_estimators as needed\n",
        "rf_classifier.fit(X_train, y_train)\n",
        "rf_predictions = rf_classifier.predict(X_test)\n",
        "print(\"\\nRandom Forest:\")\n",
        "print(classification_report(y_test, rf_predictions))\n",
        "print(\"Accuracy:\", accuracy_score(y_test, rf_predictions))"
      ],
      "metadata": {
        "colab": {
          "base_uri": "https://localhost:8080/"
        },
        "id": "_Wwq-Nft24bS",
        "outputId": "ebf9819f-8b03-45ed-a301-404bdbc46e3d"
      },
      "execution_count": null,
      "outputs": [
        {
          "output_type": "stream",
          "name": "stdout",
          "text": [
            "\n",
            "Random Forest:\n",
            "              precision    recall  f1-score   support\n",
            "\n",
            "           0       0.92      1.00      0.96      1427\n",
            "           1       0.99      0.54      0.70       274\n",
            "\n",
            "    accuracy                           0.93      1701\n",
            "   macro avg       0.95      0.77      0.83      1701\n",
            "weighted avg       0.93      0.93      0.92      1701\n",
            "\n",
            "Accuracy: 0.9253380364491476\n"
          ]
        }
      ]
    },
    {
      "cell_type": "markdown",
      "source": [
        "# Example Prediction (Remember to preprocess the input text)\n"
      ],
      "metadata": {
        "id": "8OxbG7gg2-8S"
      }
    },
    {
      "cell_type": "code",
      "source": [
        "new_headline = \"ড. ইউনূসের এডিটেড ভিডিও দিয়ে জুয়ার অ্যাপের প্রচারণা\"\n",
        "new_article = \"সামাজিক যোগাযোগ মাধ্যম ফেসবুকে একটি ভিডিও পোস্ট করা হয়েছে। ভিডিওতে দেখা যাচ্ছে অন্তর্বর্তীকালীন সরকারের প্রধান উপদেষ্টা ও নোবেল বিজয়ী ড. মুহাম্মদ ইউনূস বলেছেন, একটি অ্যাপ তৈরি করা হয়েছে যা বেকারত্ব দূর করতে সাহায্য করবে। একই ভিডিওতে ডাক, টেলিযোগাযোগ ও তথ্যপ্রযুক্তি উপদেষ্টা মো. নাহিদ ইসলামকে বলতে দেখা যায়, সব শিক্ষার্থীরা মুহাম্মদ ইউনূসের অ্যাপটিতে খেলে আয় করছে। ভিডিওটিতে সময় টেলিভিশনের লোগোযুক্ত একজন সংবাদ পাঠিকার এ সংক্রান্ত সংবাদ পাঠের দৃশ্যও যুক্ত করা হয়েছে। ভিডিও সহ এরকম একটি পোস্ট দেখুন এখানে। এছাড়াও আরো একটি ভিডিওতে ড. মুহাম্মদ ইউনূসকে বলতে দেখা যায়, দেশের বর্তমান বিপর্যয়ের কারণে আমি একটি নতুন এপ্লিকেশন তৈরি করার সিদ্ধান্ত নিয়েছি। Crazy Time নামক এই অ্যাপে মাত্র ৫ টাকা বিনিয়োগ করে অনেক ভালো আয় করা যাবে। এমনকি প্রথম দিনেই ৫০ হাজার বা এক লক্ষ টাকা জিততে (আয় করতে) পারেন। ভিডিও সহ এরকম একটি পোস্ট দেখুন এখানে। গত ২০ অক্টোবর 'Yudi liceth Arboleda' নামের পেজ থেকে ভিডিওটি (প্রথমে উল্লিখিত) পোস্ট করা হয়। ভিডিওটি দিয়ে একটি অ্যাপের প্রচারণা চালানো হচ্ছে। পোস্টটির স্ক্রিনশটের (কোলাজ) দেখুন--\"\n",
        "\n",
        "new_text = clean_text(new_headline + ' ' + new_article)\n",
        "new_text_vec = vectorizer.transform([new_text])\n",
        "\n",
        "nb_prob = nb_classifier.predict_proba(new_text_vec)[0][1]\n",
        "rf_prob = rf_classifier.predict_proba(new_text_vec)[0][1]\n",
        "\n",
        "print(f\"\\nNaive Bayes probability of being fake: {nb_prob:.2f}\")\n",
        "print(f\"Random Forest probability of being fake: {rf_prob:.2f}\")"
      ],
      "metadata": {
        "colab": {
          "base_uri": "https://localhost:8080/"
        },
        "id": "9-TJT6Vu3nz5",
        "outputId": "6365b97a-e8bd-4bd2-9c1e-24dc2e4bb47d"
      },
      "execution_count": null,
      "outputs": [
        {
          "output_type": "stream",
          "name": "stdout",
          "text": [
            "\n",
            "Naive Bayes probability of being fake: 0.10\n",
            "Random Forest probability of being fake: 0.31\n"
          ]
        }
      ]
    }
  ]
}